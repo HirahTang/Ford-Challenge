{
  "nbformat": 4,
  "nbformat_minor": 0,
  "metadata": {
    "colab": {
      "name": "Task1.ipynb",
      "version": "0.3.2",
      "provenance": [],
      "collapsed_sections": [],
      "toc_visible": true
    },
    "kernelspec": {
      "name": "python3",
      "display_name": "Python 3"
    },
    "accelerator": "GPU"
  },
  "cells": [
    {
      "cell_type": "code",
      "metadata": {
        "id": "Qu_8YjmdSdWI",
        "colab_type": "code",
        "colab": {}
      },
      "source": [
        "!kaggle competitions download -c stayalert"
      ],
      "execution_count": 0,
      "outputs": []
    },
    {
      "cell_type": "code",
      "metadata": {
        "id": "rUjOPcQ0TkCG",
        "colab_type": "code",
        "colab": {}
      },
      "source": [
        "from google.colab import files"
      ],
      "execution_count": 0,
      "outputs": []
    },
    {
      "cell_type": "code",
      "metadata": {
        "id": "ry-9wBn6Sn2V",
        "colab_type": "code",
        "colab": {}
      },
      "source": [
        "# Data import\n",
        "train = pd.read_csv('fordTrain.csv')\n",
        "test = pd.read_csv('fordTest.csv')\n",
        "sol = pd.read_csv('Solution.csv')\n",
        "exp = pd.read_csv('example_submission.csv')"
      ],
      "execution_count": 0,
      "outputs": []
    },
    {
      "cell_type": "code",
      "metadata": {
        "id": "b7j6ooITSr_j",
        "colab_type": "code",
        "colab": {}
      },
      "source": [
        "# Library Import\n",
        "import pandas as pd\n",
        "import numpy as np\n",
        "import matplotlib.pyplot as plt\n",
        "from sklearn.decomposition import PCA\n",
        "from sklearn import preprocessing\n",
        "from sklearn.linear_model import LogisticRegressionCV\n",
        "from sklearn.naive_bayes import GaussianNB\n",
        "from sklearn.ensemble import RandomForestClassifier\n",
        "from sklearn.metrics import confusion_matrix\n",
        "from sklearn.metrics import roc_auc_score\n",
        "\n",
        "from sklearn.svm import LinearSVC # Linear Support Vector Classigication\n",
        "from sklearn.svm import NuSVC\n",
        "\n",
        "from sklearn.model_selection import GridSearchCV, StratifiedKFold, train_test_split"
      ],
      "execution_count": 0,
      "outputs": []
    },
    {
      "cell_type": "code",
      "metadata": {
        "id": "eQxwFwKReH1Z",
        "colab_type": "code",
        "outputId": "2c815102-f555-4ba0-b119-b1e693659405",
        "colab": {
          "base_uri": "https://localhost:8080/",
          "height": 34
        }
      },
      "source": [
        "len(train)"
      ],
      "execution_count": 18,
      "outputs": [
        {
          "output_type": "execute_result",
          "data": {
            "text/plain": [
              "604329"
            ]
          },
          "metadata": {
            "tags": []
          },
          "execution_count": 18
        }
      ]
    },
    {
      "cell_type": "code",
      "metadata": {
        "id": "jNpYu1OcV-_x",
        "colab_type": "code",
        "colab": {}
      },
      "source": [
        "# =============================================================================\n",
        "# Data preprocessing\n",
        "# =============================================================================\n",
        "\n",
        "new_df = pd.DataFrame()  # Subset\n",
        "\n",
        "noalert = train.index[train['IsAlert'] == 0]\n",
        "turnnoalert = train.iloc[noalert-1][train['IsAlert'] == 1] # The change moment data\n",
        "\n",
        "\n",
        "#new_df \n",
        "\n",
        "for i in turnnoalert.index: # Return 500ms before and after the moment\n",
        "    new_df = new_df.append(train[i-5:i+6])\n",
        "    \n",
        "new_df = new_df.drop_duplicates() # Drop Dupicate instances\n",
        "\n",
        "#new_df\n",
        "sum(new_df.isna())"
      ],
      "execution_count": 0,
      "outputs": []
    },
    {
      "cell_type": "code",
      "metadata": {
        "id": "cJY6W2v0WKKp",
        "colab_type": "code",
        "colab": {}
      },
      "source": [
        "pcadata = new_df.drop(columns = ['TrialID', 'ObsNum', 'IsAlert']) # Drop unneccessary columns\n",
        "\n",
        "# Standarization\n",
        "\n",
        "X_scaled = preprocessing.scale(pcadata) \n",
        "pcadata.info()\n",
        "\n",
        "# Principle Component Analysis\n",
        "\n"
      ],
      "execution_count": 0,
      "outputs": []
    },
    {
      "cell_type": "code",
      "metadata": {
        "id": "E7TM1x0G3wkK",
        "colab_type": "code",
        "colab": {}
      },
      "source": [
        "pcadata.info()"
      ],
      "execution_count": 0,
      "outputs": []
    },
    {
      "cell_type": "code",
      "metadata": {
        "id": "ADH30_vM3fm9",
        "colab_type": "code",
        "colab": {}
      },
      "source": [
        "pca=PCA() \n",
        "pca.fit(X_scaled) \n"
      ],
      "execution_count": 0,
      "outputs": []
    },
    {
      "cell_type": "code",
      "metadata": {
        "id": "ks-vgu_23sER",
        "colab_type": "code",
        "colab": {}
      },
      "source": [
        "X_pca=pca.transform(X_scaled) \n",
        "#let's check the shape of X_pca array\n",
        "print (\"shape of X_pca\", X_pca.shape)\n",
        "#%%\n",
        "# Scree Plot\n",
        "y = pca.explained_variance_ratio_\n",
        "\n",
        "x = np.array([i for i in range(1, len(y)+1)])\n",
        "\n",
        "plt.plot(x, y, 'r-x')"
      ],
      "execution_count": 0,
      "outputs": []
    },
    {
      "cell_type": "code",
      "metadata": {
        "id": "kk65HgCXWP-S",
        "colab_type": "code",
        "colab": {}
      },
      "source": [
        "# Filter principle components\n",
        "sum(pca.explained_variance_ratio_[:14])\n",
        "X_pca = X_pca[:,:14] # Slice the first 14 features\n",
        "X_pca.shape \n",
        "\n",
        "X_pca # Training features\n",
        "new_df.IsAlert # Target features"
      ],
      "execution_count": 0,
      "outputs": []
    },
    {
      "cell_type": "code",
      "metadata": {
        "id": "_KvH7g18WaOu",
        "colab_type": "code",
        "colab": {}
      },
      "source": [
        "skf = StratifiedKFold(n_splits=10)\n",
        "params = {}\n",
        "nb = GaussianNB()\n",
        "gs = GridSearchCV(nb, cv=skf, param_grid=params, return_train_score=True)\n",
        "\n",
        "x_train, x_test, y_train, y_test = train_test_split(X_pca, new_df.IsAlert, random_state = 42)\n"
      ],
      "execution_count": 0,
      "outputs": []
    },
    {
      "cell_type": "code",
      "metadata": {
        "id": "jVjvkHrcWgCH",
        "colab_type": "code",
        "colab": {}
      },
      "source": [
        "\n",
        "# Nu - SVC\n",
        "nusvc = NuSVC(gamma = 'scale')\n",
        "nusvcgridsearch = GridSearchCV(nusvc, cv = skf, param_grid = params, return_train_score = True)\n",
        "nusvcgridsearch.fit(x_train, y_train) \n",
        "\n"
      ],
      "execution_count": 0,
      "outputs": []
    },
    {
      "cell_type": "code",
      "metadata": {
        "id": "AygIbdI_WuVN",
        "colab_type": "code",
        "colab": {}
      },
      "source": [
        "nusvcgridsearch.cv_results_\n"
      ],
      "execution_count": 0,
      "outputs": []
    },
    {
      "cell_type": "code",
      "metadata": {
        "id": "nP895MgR5fxz",
        "colab_type": "code",
        "colab": {}
      },
      "source": [
        "nusvcgridsearch.score(X_pca, new_df.IsAlert)"
      ],
      "execution_count": 0,
      "outputs": []
    },
    {
      "cell_type": "code",
      "metadata": {
        "id": "T27glDHQ5lZp",
        "colab_type": "code",
        "colab": {}
      },
      "source": [
        "nusvc_predict = nusvcgridsearch.predict(X_pca)\n",
        "\n",
        "confusion_matrix(new_df.IsAlert, nusvc_predict)"
      ],
      "execution_count": 0,
      "outputs": []
    },
    {
      "cell_type": "code",
      "metadata": {
        "id": "d_kGK_FA5pTw",
        "colab_type": "code",
        "colab": {}
      },
      "source": [
        "\n",
        "roc_auc_score(new_df.IsAlert, nusvc_predict)"
      ],
      "execution_count": 0,
      "outputs": []
    },
    {
      "cell_type": "code",
      "metadata": {
        "id": "kZYNxU6UWmu_",
        "colab_type": "code",
        "colab": {}
      },
      "source": [
        "from sklearn.svm import SVR\n",
        "from sklearn.svm import SVC"
      ],
      "execution_count": 0,
      "outputs": []
    },
    {
      "cell_type": "code",
      "metadata": {
        "id": "b5uwYLnwWs-9",
        "colab_type": "code",
        "colab": {}
      },
      "source": [
        "# epsilon - SVR\n",
        "svr = SVR(gamma='scale', C=1.0, epsilon=0.2)\n",
        "svrgridsearch = GridSearchCV(svr, cv = skf, param_grid = params, return_train_score = True)\n",
        "svrgridsearch.fit(x_train, y_train) "
      ],
      "execution_count": 0,
      "outputs": []
    },
    {
      "cell_type": "code",
      "metadata": {
        "id": "LgRHWgJ_Wx7Y",
        "colab_type": "code",
        "colab": {}
      },
      "source": [
        "svrgridsearch.cv_results_"
      ],
      "execution_count": 0,
      "outputs": []
    },
    {
      "cell_type": "code",
      "metadata": {
        "id": "Kl_8E8Vd5waA",
        "colab_type": "code",
        "colab": {}
      },
      "source": [
        "svrgridsearch.score(X_pca, new_df.IsAlert)"
      ],
      "execution_count": 0,
      "outputs": []
    },
    {
      "cell_type": "code",
      "metadata": {
        "id": "mCLAH9VQ5zqk",
        "colab_type": "code",
        "colab": {}
      },
      "source": [
        "svr_predict = svrgridsearch.predict(X_pca)\n",
        "\n",
        "confusion_matrix(new_df.IsAlert, svr_predict)"
      ],
      "execution_count": 0,
      "outputs": []
    },
    {
      "cell_type": "code",
      "metadata": {
        "id": "ZWwLSBdU51Lq",
        "colab_type": "code",
        "colab": {}
      },
      "source": [
        "roc_auc_score(new_df.IsAlert, svr_predict)"
      ],
      "execution_count": 0,
      "outputs": []
    },
    {
      "cell_type": "code",
      "metadata": {
        "id": "stHl5rwKW0ip",
        "colab_type": "code",
        "colab": {}
      },
      "source": [
        "# C - SVC\n",
        "svc = SVC(gamma='auto')\n",
        "svcgridsearch = GridSearchCV(svc, cv = skf, param_grid = params, return_train_score = True)\n",
        "svcgridsearch.fit(x_train, y_train) "
      ],
      "execution_count": 0,
      "outputs": []
    },
    {
      "cell_type": "code",
      "metadata": {
        "id": "AfUrae1cW4hc",
        "colab_type": "code",
        "colab": {}
      },
      "source": [
        "svcgridsearch.cv_results_"
      ],
      "execution_count": 0,
      "outputs": []
    },
    {
      "cell_type": "code",
      "metadata": {
        "id": "SjqJlDHe61Ms",
        "colab_type": "code",
        "colab": {}
      },
      "source": [
        "svcgridsearch.score(X_pca, new_df.IsAlert)"
      ],
      "execution_count": 0,
      "outputs": []
    },
    {
      "cell_type": "code",
      "metadata": {
        "id": "BWa71M0a623h",
        "colab_type": "code",
        "colab": {}
      },
      "source": [
        "svc_predict = svcgridsearch.predict(X_pca)\n",
        "\n",
        "confusion_matrix(new_df.IsAlert, svc_predict)"
      ],
      "execution_count": 0,
      "outputs": []
    },
    {
      "cell_type": "code",
      "metadata": {
        "id": "VTFx94He64NH",
        "colab_type": "code",
        "colab": {}
      },
      "source": [
        "roc_auc_score(new_df.IsAlert, svc_predict)"
      ],
      "execution_count": 0,
      "outputs": []
    },
    {
      "cell_type": "code",
      "metadata": {
        "id": "XTdDbbCe0q5N",
        "colab_type": "code",
        "colab": {}
      },
      "source": [
        "from sklearn.neural_network import MLPClassifier\n",
        "\n",
        "nn1 = MLPClassifier(solver='adam', alpha=1e-5,activation = 'logistic',hidden_layer_sizes=(14, 14, 12, 10, 5), random_state=1)\n",
        "nngridsearch = GridSearchCV(nn1, cv = skf, param_grid = params, return_train_score = True)"
      ],
      "execution_count": 0,
      "outputs": []
    },
    {
      "cell_type": "code",
      "metadata": {
        "id": "4qrmLscr1ZCB",
        "colab_type": "code",
        "colab": {}
      },
      "source": [
        "nngridsearch.fit(x_train, y_train) \n",
        "\n"
      ],
      "execution_count": 0,
      "outputs": []
    },
    {
      "cell_type": "code",
      "metadata": {
        "id": "z1HzclOu6N0B",
        "colab_type": "code",
        "colab": {}
      },
      "source": [
        "nngridsearch.cv_results_\n"
      ],
      "execution_count": 0,
      "outputs": []
    },
    {
      "cell_type": "code",
      "metadata": {
        "id": "ZoYWiBPA6PIA",
        "colab_type": "code",
        "colab": {}
      },
      "source": [
        "nngridsearch.score(X_pca, new_df.IsAlert)"
      ],
      "execution_count": 0,
      "outputs": []
    },
    {
      "cell_type": "code",
      "metadata": {
        "id": "DXxaeT7i8Jzz",
        "colab_type": "code",
        "colab": {}
      },
      "source": [
        "nn_predict = nngridsearch.predict(X_pca)\n",
        "\n",
        "confusion_matrix(new_df.IsAlert, nn_predict)"
      ],
      "execution_count": 0,
      "outputs": []
    },
    {
      "cell_type": "code",
      "metadata": {
        "id": "XVTGj0Pc6ROm",
        "colab_type": "code",
        "colab": {}
      },
      "source": [
        "roc_auc_score(new_df.IsAlert, nn_predict)"
      ],
      "execution_count": 0,
      "outputs": []
    },
    {
      "cell_type": "markdown",
      "metadata": {
        "id": "bQdastDIQkOb",
        "colab_type": "text"
      },
      "source": [
        "# Model 2"
      ]
    },
    {
      "cell_type": "markdown",
      "metadata": {
        "id": "ANzC-wqlRk3P",
        "colab_type": "text"
      },
      "source": [
        "# Use rolling means and std of each attribute as new features"
      ]
    },
    {
      "cell_type": "code",
      "metadata": {
        "id": "f01F0mD3QpVR",
        "colab_type": "code",
        "colab": {
          "base_uri": "https://localhost:8080/",
          "height": 281
        },
        "outputId": "013875e7-3016-4c9a-bb65-9c512fb1bce7"
      },
      "source": [
        "#train_2 = train[train['TrialID'] <= 1]\n",
        "train_new = pd.DataFrame() # New df\n",
        "#train_new\n",
        "for i in range(0, max(train.TrialID)+1): # Within each trial\n",
        "    temp_data = train[train['TrialID'] == i] # Create a temporary df for each trial\n",
        "    for j in list(train)[3:]: # For all the attributes of each trial\n",
        "#        print (train_2[train_2['TrialID'] == i][j])\n",
        "        temp_data['m{}'.format(j)] = train[train['TrialID'] == i][j].rolling(window = 5).mean() # Create the Rolling mean\n",
        "        temp_data['sd{}'.format(j)] = train[train['TrialID'] == i][j].rolling(window = 5).std() # Create the Rolling Std\n",
        "    train_new = train_new.append(temp_data)"
      ],
      "execution_count": 19,
      "outputs": [
        {
          "output_type": "stream",
          "text": [
            "/usr/local/lib/python3.6/dist-packages/ipykernel_launcher.py:7: SettingWithCopyWarning: \n",
            "A value is trying to be set on a copy of a slice from a DataFrame.\n",
            "Try using .loc[row_indexer,col_indexer] = value instead\n",
            "\n",
            "See the caveats in the documentation: http://pandas.pydata.org/pandas-docs/stable/indexing.html#indexing-view-versus-copy\n",
            "  import sys\n",
            "/usr/local/lib/python3.6/dist-packages/ipykernel_launcher.py:8: SettingWithCopyWarning: \n",
            "A value is trying to be set on a copy of a slice from a DataFrame.\n",
            "Try using .loc[row_indexer,col_indexer] = value instead\n",
            "\n",
            "See the caveats in the documentation: http://pandas.pydata.org/pandas-docs/stable/indexing.html#indexing-view-versus-copy\n",
            "  \n"
          ],
          "name": "stderr"
        }
      ]
    },
    {
      "cell_type": "markdown",
      "metadata": {
        "id": "Wh5S-zEJcZE6",
        "colab_type": "text"
      },
      "source": [
        ""
      ]
    },
    {
      "cell_type": "code",
      "metadata": {
        "id": "_8djEqbTT5I9",
        "colab_type": "code",
        "colab": {}
      },
      "source": [
        "train_new = train_new.fillna(0) # Missing Value"
      ],
      "execution_count": 0,
      "outputs": []
    },
    {
      "cell_type": "code",
      "metadata": {
        "id": "Qr3OPuiqSZJ9",
        "colab_type": "code",
        "colab": {}
      },
      "source": [
        "# Data partition\n",
        "train_new = train_new.drop(columns = ['TrialID', 'ObsNum', 'IsAlert']) # Drop unneccessary columns\n",
        "\n",
        "X_train, X_test, y_train, y_test = train_test_split(train_new, train.IsAlert, test_size = 0.2, random_state = 23)"
      ],
      "execution_count": 0,
      "outputs": []
    },
    {
      "cell_type": "code",
      "metadata": {
        "id": "eHXHLav5ddEq",
        "colab_type": "code",
        "colab": {}
      },
      "source": [
        "train_new"
      ],
      "execution_count": 0,
      "outputs": []
    },
    {
      "cell_type": "markdown",
      "metadata": {
        "id": "N2dKvhKEVJrQ",
        "colab_type": "text"
      },
      "source": [
        "Random Forest"
      ]
    },
    {
      "cell_type": "code",
      "metadata": {
        "id": "T3vJxT-BS-Oy",
        "colab_type": "code",
        "colab": {
          "base_uri": "https://localhost:8080/",
          "height": 119
        },
        "outputId": "e9691009-3739-45a8-c58c-bcc1689a1321"
      },
      "source": [
        "# Random Forest\n",
        "from sklearn.ensemble import RandomForestClassifier\n",
        "\n",
        "forest = RandomForestClassifier(n_estimators = 50, random_state = 42)\n",
        "forest.fit(X_train, y_train)"
      ],
      "execution_count": 23,
      "outputs": [
        {
          "output_type": "execute_result",
          "data": {
            "text/plain": [
              "RandomForestClassifier(bootstrap=True, class_weight=None, criterion='gini',\n",
              "            max_depth=None, max_features='auto', max_leaf_nodes=None,\n",
              "            min_impurity_decrease=0.0, min_impurity_split=None,\n",
              "            min_samples_leaf=1, min_samples_split=2,\n",
              "            min_weight_fraction_leaf=0.0, n_estimators=50, n_jobs=None,\n",
              "            oob_score=False, random_state=42, verbose=0, warm_start=False)"
            ]
          },
          "metadata": {
            "tags": []
          },
          "execution_count": 23
        }
      ]
    },
    {
      "cell_type": "code",
      "metadata": {
        "id": "JiKGGUtdVj-B",
        "colab_type": "code",
        "colab": {
          "base_uri": "https://localhost:8080/",
          "height": 34
        },
        "outputId": "28a2857e-6453-47fb-be9f-3c88cf4da548"
      },
      "source": [
        "# Accuracy\n",
        "forest.score(X_test, y_test)"
      ],
      "execution_count": 30,
      "outputs": [
        {
          "output_type": "execute_result",
          "data": {
            "text/plain": [
              "0.9891615508083332"
            ]
          },
          "metadata": {
            "tags": []
          },
          "execution_count": 30
        }
      ]
    },
    {
      "cell_type": "code",
      "metadata": {
        "id": "XyHoOfDbV7_Z",
        "colab_type": "code",
        "colab": {}
      },
      "source": [
        "for_predict = forest.predict(X_test)"
      ],
      "execution_count": 0,
      "outputs": []
    },
    {
      "cell_type": "code",
      "metadata": {
        "id": "2vMbLQ1tWEA6",
        "colab_type": "code",
        "colab": {
          "base_uri": "https://localhost:8080/",
          "height": 51
        },
        "outputId": "7d27d38d-29cb-461c-904f-0f4f7c74656e"
      },
      "source": [
        "# Confusion Matrix\n",
        "confusion_matrix(y_test, for_predict)"
      ],
      "execution_count": 31,
      "outputs": [
        {
          "output_type": "execute_result",
          "data": {
            "text/plain": [
              "array([[49663,  1247],\n",
              "       [   63, 69893]])"
            ]
          },
          "metadata": {
            "tags": []
          },
          "execution_count": 31
        }
      ]
    },
    {
      "cell_type": "code",
      "metadata": {
        "id": "s_G3GtuBWOW6",
        "colab_type": "code",
        "colab": {
          "base_uri": "https://localhost:8080/",
          "height": 34
        },
        "outputId": "8b4168e4-b9c3-4a3e-81ee-95172842abb0"
      },
      "source": [
        "# AUC score\n",
        "roc_auc_score(y_test, for_predict)"
      ],
      "execution_count": 32,
      "outputs": [
        {
          "output_type": "execute_result",
          "data": {
            "text/plain": [
              "0.987302614234641"
            ]
          },
          "metadata": {
            "tags": []
          },
          "execution_count": 32
        }
      ]
    },
    {
      "cell_type": "markdown",
      "metadata": {
        "id": "jdZdOfOeVMBq",
        "colab_type": "text"
      },
      "source": [
        "Logistic Regression"
      ]
    },
    {
      "cell_type": "code",
      "metadata": {
        "id": "_7ooV4kiVG3c",
        "colab_type": "code",
        "colab": {}
      },
      "source": [
        "from sklearn.linear_model import LogisticRegression"
      ],
      "execution_count": 0,
      "outputs": []
    },
    {
      "cell_type": "code",
      "metadata": {
        "id": "RRlfxOnSVVK3",
        "colab_type": "code",
        "colab": {}
      },
      "source": [
        "logr = LogisticRegression(random_state=0, solver='saga').fit(X_train, y_train)"
      ],
      "execution_count": 0,
      "outputs": []
    },
    {
      "cell_type": "code",
      "metadata": {
        "id": "mG7ia0iLVw14",
        "colab_type": "code",
        "colab": {}
      },
      "source": [
        "logr.score(X_test, y_test)"
      ],
      "execution_count": 0,
      "outputs": []
    },
    {
      "cell_type": "code",
      "metadata": {
        "id": "52ZWbRkGV0zl",
        "colab_type": "code",
        "colab": {}
      },
      "source": [
        "logr_pred = logr.predict(X_test)"
      ],
      "execution_count": 0,
      "outputs": []
    },
    {
      "cell_type": "code",
      "metadata": {
        "id": "FvoSD056V5iZ",
        "colab_type": "code",
        "colab": {}
      },
      "source": [
        "confusion_matrix(y_test, logr_pred)"
      ],
      "execution_count": 0,
      "outputs": []
    },
    {
      "cell_type": "code",
      "metadata": {
        "id": "SpUU0HKnV_Tm",
        "colab_type": "code",
        "colab": {}
      },
      "source": [
        "roc_auc_score(y_test, logr_pred)"
      ],
      "execution_count": 0,
      "outputs": []
    },
    {
      "cell_type": "markdown",
      "metadata": {
        "id": "T0kXhWdfWGiz",
        "colab_type": "text"
      },
      "source": [
        "Naïve Bayes"
      ]
    },
    {
      "cell_type": "code",
      "metadata": {
        "id": "53JrZbhKWOr9",
        "colab_type": "code",
        "colab": {}
      },
      "source": [
        "from sklearn.naive_bayes import GaussianNB"
      ],
      "execution_count": 0,
      "outputs": []
    },
    {
      "cell_type": "code",
      "metadata": {
        "id": "hW5ALDcSWdF-",
        "colab_type": "code",
        "colab": {}
      },
      "source": [
        "nb2 = GaussianNB()\n",
        "nb2.fit(X_train, y_train)"
      ],
      "execution_count": 0,
      "outputs": []
    },
    {
      "cell_type": "code",
      "metadata": {
        "id": "mAcEVzHxWz1e",
        "colab_type": "code",
        "colab": {}
      },
      "source": [
        "nb2.score(X_test, y_test)"
      ],
      "execution_count": 0,
      "outputs": []
    },
    {
      "cell_type": "code",
      "metadata": {
        "id": "MZ3Ex8o0W4WI",
        "colab_type": "code",
        "colab": {}
      },
      "source": [
        "nb2_pred = nb2.predict(X_test)"
      ],
      "execution_count": 0,
      "outputs": []
    },
    {
      "cell_type": "code",
      "metadata": {
        "id": "xTWe7OfyW92A",
        "colab_type": "code",
        "colab": {}
      },
      "source": [
        "confusion_matrix(y_test, nb2_pred)"
      ],
      "execution_count": 0,
      "outputs": []
    },
    {
      "cell_type": "code",
      "metadata": {
        "id": "WOKKc1ZZW_83",
        "colab_type": "code",
        "colab": {}
      },
      "source": [
        "roc_auc_score(y_test, nb2_pred)"
      ],
      "execution_count": 0,
      "outputs": []
    },
    {
      "cell_type": "markdown",
      "metadata": {
        "id": "53RkmHwiXjnb",
        "colab_type": "text"
      },
      "source": [
        "Nu-SVC"
      ]
    },
    {
      "cell_type": "code",
      "metadata": {
        "id": "JS8b7k0aZJpD",
        "colab_type": "code",
        "colab": {}
      },
      "source": [
        "nusvc2 = NuSVC(gamma = 'scale')"
      ],
      "execution_count": 0,
      "outputs": []
    },
    {
      "cell_type": "code",
      "metadata": {
        "id": "pV3MJIjW9Olb",
        "colab_type": "code",
        "colab": {}
      },
      "source": [
        "nusvc2.fit(X_train, y_train)"
      ],
      "execution_count": 0,
      "outputs": []
    },
    {
      "cell_type": "code",
      "metadata": {
        "id": "4g8IOdInZpnW",
        "colab_type": "code",
        "colab": {}
      },
      "source": [
        "nusvc2.score(X_test, y_test)"
      ],
      "execution_count": 0,
      "outputs": []
    },
    {
      "cell_type": "markdown",
      "metadata": {
        "id": "P1NpQlN22Rk2",
        "colab_type": "text"
      },
      "source": [
        ""
      ]
    },
    {
      "cell_type": "code",
      "metadata": {
        "id": "CbRMyb9LZv3c",
        "colab_type": "code",
        "colab": {}
      },
      "source": [
        "nusvc2_pred = nusvc2.predict(X_test)"
      ],
      "execution_count": 0,
      "outputs": []
    },
    {
      "cell_type": "code",
      "metadata": {
        "id": "fy52RtalZ2ID",
        "colab_type": "code",
        "colab": {}
      },
      "source": [
        "confusion_matrix(y_test, nusvc2_pred)"
      ],
      "execution_count": 0,
      "outputs": []
    },
    {
      "cell_type": "code",
      "metadata": {
        "id": "tz_gZj6UZ4tI",
        "colab_type": "code",
        "colab": {}
      },
      "source": [
        "roc_auc_score(y_test, nusvc2_pred)"
      ],
      "execution_count": 0,
      "outputs": []
    },
    {
      "cell_type": "markdown",
      "metadata": {
        "id": "C20NbCD4Z-Sx",
        "colab_type": "text"
      },
      "source": [
        "Linear-SVC"
      ]
    },
    {
      "cell_type": "code",
      "metadata": {
        "id": "n_DE3iamaigL",
        "colab_type": "code",
        "colab": {}
      },
      "source": [
        "from sklearn.svm import LinearSVC\n",
        "lisvc2 = LinearSVC(random_state=42, tol=1e-5)"
      ],
      "execution_count": 0,
      "outputs": []
    },
    {
      "cell_type": "code",
      "metadata": {
        "id": "0TsvcxCPaZzs",
        "colab_type": "code",
        "colab": {}
      },
      "source": [
        "lisvc2.fit(X_train, y_train)"
      ],
      "execution_count": 0,
      "outputs": []
    },
    {
      "cell_type": "code",
      "metadata": {
        "id": "Lv_QmZkTan2r",
        "colab_type": "code",
        "colab": {}
      },
      "source": [
        "lisvc2.score(X_test, y_test)"
      ],
      "execution_count": 0,
      "outputs": []
    },
    {
      "cell_type": "code",
      "metadata": {
        "id": "7zEi0YhuarA8",
        "colab_type": "code",
        "colab": {}
      },
      "source": [
        "lisvc2_pred = lisvc2.predict(X_test)"
      ],
      "execution_count": 0,
      "outputs": []
    },
    {
      "cell_type": "code",
      "metadata": {
        "id": "j2G9LmDmavcU",
        "colab_type": "code",
        "colab": {}
      },
      "source": [
        "confusion_matrix(y_test, lisvc2_pred)"
      ],
      "execution_count": 0,
      "outputs": []
    },
    {
      "cell_type": "code",
      "metadata": {
        "id": "pMar2nc7ay5n",
        "colab_type": "code",
        "colab": {}
      },
      "source": [
        "roc_auc_score(y_test, lisvc2_pred)"
      ],
      "execution_count": 0,
      "outputs": []
    },
    {
      "cell_type": "markdown",
      "metadata": {
        "id": "F4xreuw9a45l",
        "colab_type": "text"
      },
      "source": [
        "C-SVC"
      ]
    },
    {
      "cell_type": "code",
      "metadata": {
        "id": "-hloMN3Ya-Fx",
        "colab_type": "code",
        "colab": {}
      },
      "source": [
        "from sklearn.svm import SVC \n",
        "\n",
        "svc2 = SVC(gamma='auto')"
      ],
      "execution_count": 0,
      "outputs": []
    },
    {
      "cell_type": "code",
      "metadata": {
        "id": "HjcO5fbJa_ts",
        "colab_type": "code",
        "colab": {}
      },
      "source": [
        "svc2.fit(X_train, y_train)"
      ],
      "execution_count": 0,
      "outputs": []
    },
    {
      "cell_type": "code",
      "metadata": {
        "id": "hzjVFzaBbFz7",
        "colab_type": "code",
        "colab": {}
      },
      "source": [
        "svc2_pred = svc2.predict(X_test)"
      ],
      "execution_count": 0,
      "outputs": []
    },
    {
      "cell_type": "code",
      "metadata": {
        "id": "MEA3j8V2bKn6",
        "colab_type": "code",
        "colab": {}
      },
      "source": [
        "svc2.score(X_test, y_test)"
      ],
      "execution_count": 0,
      "outputs": []
    },
    {
      "cell_type": "code",
      "metadata": {
        "id": "Afy0pGU0bMxL",
        "colab_type": "code",
        "colab": {}
      },
      "source": [
        "confusion_matrix(y_test, svc2_pred)"
      ],
      "execution_count": 0,
      "outputs": []
    },
    {
      "cell_type": "code",
      "metadata": {
        "id": "k_eFuNHAbPG7",
        "colab_type": "code",
        "colab": {}
      },
      "source": [
        "roc_auc_score(y_test, svc2_pred)"
      ],
      "execution_count": 0,
      "outputs": []
    },
    {
      "cell_type": "markdown",
      "metadata": {
        "id": "VUU-vsq6bShJ",
        "colab_type": "text"
      },
      "source": [
        "Neural Network\n",
        "\n",
        "With four hidden layers 90 - 70 - 50 - 30"
      ]
    },
    {
      "cell_type": "code",
      "metadata": {
        "id": "XgUdvALXbWsa",
        "colab_type": "code",
        "colab": {}
      },
      "source": [
        "from sklearn.neural_network import MLPClassifier"
      ],
      "execution_count": 0,
      "outputs": []
    },
    {
      "cell_type": "code",
      "metadata": {
        "id": "hdfccD4r3JmA",
        "colab_type": "code",
        "colab": {
          "base_uri": "https://localhost:8080/",
          "height": 136
        },
        "outputId": "a99dd78d-0a14-4f8a-9db8-3090d15a5bd2"
      },
      "source": [
        "nn2 = MLPClassifier(solver='adam', alpha=1e-5,activation = 'logistic',hidden_layer_sizes=(90, 70, 50, 30), random_state=1)\n",
        "nn2.fit(X_train, y_train) "
      ],
      "execution_count": 26,
      "outputs": [
        {
          "output_type": "execute_result",
          "data": {
            "text/plain": [
              "MLPClassifier(activation='logistic', alpha=1e-05, batch_size='auto',\n",
              "       beta_1=0.9, beta_2=0.999, early_stopping=False, epsilon=1e-08,\n",
              "       hidden_layer_sizes=(90, 70, 50, 30), learning_rate='constant',\n",
              "       learning_rate_init=0.001, max_iter=200, momentum=0.9,\n",
              "       n_iter_no_change=10, nesterovs_momentum=True, power_t=0.5,\n",
              "       random_state=1, shuffle=True, solver='adam', tol=0.0001,\n",
              "       validation_fraction=0.1, verbose=False, warm_start=False)"
            ]
          },
          "metadata": {
            "tags": []
          },
          "execution_count": 26
        }
      ]
    },
    {
      "cell_type": "code",
      "metadata": {
        "id": "Y1WHqNzs3hJT",
        "colab_type": "code",
        "colab": {}
      },
      "source": [
        "nn2_predict = nn2.predict(X_test)"
      ],
      "execution_count": 0,
      "outputs": []
    },
    {
      "cell_type": "code",
      "metadata": {
        "id": "MusmNASw3_sr",
        "colab_type": "code",
        "colab": {
          "base_uri": "https://localhost:8080/",
          "height": 34
        },
        "outputId": "1cdd1f3e-abcb-4391-beb3-8d77e11f980c"
      },
      "source": [
        "nn2.score(X_test, y_test)"
      ],
      "execution_count": 33,
      "outputs": [
        {
          "output_type": "execute_result",
          "data": {
            "text/plain": [
              "0.8075802955338971"
            ]
          },
          "metadata": {
            "tags": []
          },
          "execution_count": 33
        }
      ]
    },
    {
      "cell_type": "code",
      "metadata": {
        "id": "jilKm21v4ESB",
        "colab_type": "code",
        "colab": {
          "base_uri": "https://localhost:8080/",
          "height": 51
        },
        "outputId": "269c1017-8918-42c0-9068-1c2e88f667c3"
      },
      "source": [
        "confusion_matrix(y_test, nn2_predict)"
      ],
      "execution_count": 34,
      "outputs": [
        {
          "output_type": "execute_result",
          "data": {
            "text/plain": [
              "array([[30169, 20741],\n",
              "       [ 2516, 67440]])"
            ]
          },
          "metadata": {
            "tags": []
          },
          "execution_count": 34
        }
      ]
    },
    {
      "cell_type": "code",
      "metadata": {
        "id": "zO6tyNGo4Sqa",
        "colab_type": "code",
        "colab": {
          "base_uri": "https://localhost:8080/",
          "height": 34
        },
        "outputId": "3e1ff100-aa07-4797-be98-74fc7e06159d"
      },
      "source": [
        "roc_auc_score(y_test, nn2_predict)"
      ],
      "execution_count": 35,
      "outputs": [
        {
          "output_type": "execute_result",
          "data": {
            "text/plain": [
              "0.7783146555436775"
            ]
          },
          "metadata": {
            "tags": []
          },
          "execution_count": 35
        }
      ]
    },
    {
      "cell_type": "markdown",
      "metadata": {
        "id": "gf_JzV9Y4WHr",
        "colab_type": "text"
      },
      "source": [
        "Model & Data exportation"
      ]
    },
    {
      "cell_type": "code",
      "metadata": {
        "id": "2U0iAiYE4Yh8",
        "colab_type": "code",
        "colab": {}
      },
      "source": [
        "# Data export\n",
        "\n",
        "train_new['IsAlert'] = train['IsAlert']\n",
        "# train_new.to_csv('featuredtrain.csv')"
      ],
      "execution_count": 0,
      "outputs": []
    },
    {
      "cell_type": "code",
      "metadata": {
        "id": "P-5cjt3P60e1",
        "colab_type": "code",
        "colab": {}
      },
      "source": [
        "from joblib import dump, load"
      ],
      "execution_count": 0,
      "outputs": []
    },
    {
      "cell_type": "code",
      "metadata": {
        "id": "bCOZ9BwS7Ke4",
        "colab_type": "code",
        "colab": {
          "base_uri": "https://localhost:8080/",
          "height": 34
        },
        "outputId": "97cf68ea-0b25-4576-865f-abe6b69c2c83"
      },
      "source": [
        "# Export randomforest\n",
        "# dump(forest, 'mstdforest.joblib')"
      ],
      "execution_count": 29,
      "outputs": [
        {
          "output_type": "execute_result",
          "data": {
            "text/plain": [
              "['mstdforest.joblib']"
            ]
          },
          "metadata": {
            "tags": []
          },
          "execution_count": 29
        }
      ]
    },
    {
      "cell_type": "code",
      "metadata": {
        "id": "JT0XNqUcbIzV",
        "colab_type": "code",
        "colab": {}
      },
      "source": [
        "from google.colab import drive\n",
        "\n",
        "\n"
      ],
      "execution_count": 0,
      "outputs": []
    },
    {
      "cell_type": "code",
      "metadata": {
        "id": "kBbqxnvwwD_T",
        "colab_type": "code",
        "colab": {
          "base_uri": "https://localhost:8080/",
          "height": 189
        },
        "outputId": "596d3d2f-e89f-42be-ae0d-270d09e1486a"
      },
      "source": [
        "drive.mount('/content/gdrive', force_remount=True)\n",
        "root_dir = \"/content/gdrive/My Drive/\""
      ],
      "execution_count": 37,
      "outputs": [
        {
          "output_type": "stream",
          "text": [
            "Go to this URL in a browser: https://accounts.google.com/o/oauth2/auth?client_id=947318989803-6bn6qk8qdgf4n4g3pfee6491hc0brc4i.apps.googleusercontent.com&redirect_uri=urn%3Aietf%3Awg%3Aoauth%3A2.0%3Aoob&scope=email%20https%3A%2F%2Fwww.googleapis.com%2Fauth%2Fdocs.test%20https%3A%2F%2Fwww.googleapis.com%2Fauth%2Fdrive%20https%3A%2F%2Fwww.googleapis.com%2Fauth%2Fdrive.photos.readonly%20https%3A%2F%2Fwww.googleapis.com%2Fauth%2Fpeopleapi.readonly&response_type=code\n",
            "\n",
            "Enter your authorization code:\n",
            "··········\n",
            "Mounted at /content/gdrive\n"
          ],
          "name": "stdout"
        }
      ]
    },
    {
      "cell_type": "code",
      "metadata": {
        "id": "WAnUMfFswV8M",
        "colab_type": "code",
        "colab": {}
      },
      "source": [
        "base_dir = root_dir + 'fastai-v3/'"
      ],
      "execution_count": 0,
      "outputs": []
    },
    {
      "cell_type": "code",
      "metadata": {
        "id": "uBiYVf5RwbPI",
        "colab_type": "code",
        "colab": {}
      },
      "source": [
        "from pathlib import Path\n",
        "path = Path(base_dir + 'data/bears')\n",
        "dest = path/'featuretrain.csv'\n",
        "dest.mkdir(parents=True, exist_ok=True)"
      ],
      "execution_count": 0,
      "outputs": []
    },
    {
      "cell_type": "code",
      "metadata": {
        "id": "6q4WE-MxxNQz",
        "colab_type": "code",
        "colab": {}
      },
      "source": [
        "train_new.to_csv('featuredtrain.csv') # Dataset exportation"
      ],
      "execution_count": 0,
      "outputs": []
    },
    {
      "cell_type": "code",
      "metadata": {
        "id": "WPN-FOXGxhvj",
        "colab_type": "code",
        "colab": {
          "base_uri": "https://localhost:8080/",
          "height": 34
        },
        "outputId": "41700a65-6ea3-4d23-a9d2-7325436811ae"
      },
      "source": [
        "dump(forest, 'mstdforest.joblib') # Model exportation\n",
        "dump(nn2, 'mstdnn.joblib')"
      ],
      "execution_count": 44,
      "outputs": [
        {
          "output_type": "execute_result",
          "data": {
            "text/plain": [
              "['mstdnn.joblib']"
            ]
          },
          "metadata": {
            "tags": []
          },
          "execution_count": 44
        }
      ]
    },
    {
      "cell_type": "markdown",
      "metadata": {
        "id": "lg9259S0XNUo",
        "colab_type": "text"
      },
      "source": [
        "Try PCA as well"
      ]
    },
    {
      "cell_type": "code",
      "metadata": {
        "id": "sJ8bqII7W5UD",
        "colab_type": "code",
        "outputId": "9a96e4d8-6869-4014-f45b-b7c4ca04864a",
        "colab": {
          "base_uri": "https://localhost:8080/",
          "height": 111
        }
      },
      "source": [
        "t_sc = preprocessing.scale(train_new) # Standarization\n",
        "pca_2=PCA() \n",
        "pca_2.fit(t_sc)  # Fit PCA"
      ],
      "execution_count": 0,
      "outputs": [
        {
          "output_type": "stream",
          "text": [
            "/usr/local/lib/python3.6/dist-packages/ipykernel_launcher.py:1: DataConversionWarning: Data with input dtype int64, float64 were all converted to float64 by the scale function.\n",
            "  \"\"\"Entry point for launching an IPython kernel.\n"
          ],
          "name": "stderr"
        },
        {
          "output_type": "execute_result",
          "data": {
            "text/plain": [
              "PCA(copy=True, iterated_power='auto', n_components=None, random_state=None,\n",
              "  svd_solver='auto', tol=0.0, whiten=False)"
            ]
          },
          "metadata": {
            "tags": []
          },
          "execution_count": 49
        }
      ]
    },
    {
      "cell_type": "code",
      "metadata": {
        "id": "1z1dTLPDXiQJ",
        "colab_type": "code",
        "colab": {}
      },
      "source": [
        "t_pca=pca_2.transform(t_sc) "
      ],
      "execution_count": 0,
      "outputs": []
    },
    {
      "cell_type": "code",
      "metadata": {
        "id": "KITZwoxfXtz6",
        "colab_type": "code",
        "outputId": "d762ffa0-93c8-4463-d322-9b48f9ee692c",
        "colab": {
          "base_uri": "https://localhost:8080/",
          "height": 286
        }
      },
      "source": [
        "# Scree plot\n",
        "y = pca_2.explained_variance_ratio_\n",
        "\n",
        "x = np.array([i for i in range(1, len(y)+1)])\n",
        "\n",
        "plt.plot(x, y, 'r-x')"
      ],
      "execution_count": 0,
      "outputs": [
        {
          "output_type": "execute_result",
          "data": {
            "text/plain": [
              "[<matplotlib.lines.Line2D at 0x7f656e21c7b8>]"
            ]
          },
          "metadata": {
            "tags": []
          },
          "execution_count": 51
        },
        {
          "output_type": "display_data",
          "data": {
            "image/png": "[encoded data removed]",
            "text/plain": [
              "<Figure size 432x288 with 1 Axes>"
            ]
          },
          "metadata": {
            "tags": []
          }
        }
      ]
    },
    {
      "cell_type": "code",
      "metadata": {
        "id": "mVZ62Dd9X7Nh",
        "colab_type": "code",
        "outputId": "7a1d2fd2-e7cb-457a-f21a-77227540483f",
        "colab": {
          "base_uri": "https://localhost:8080/",
          "height": 34
        }
      },
      "source": [
        "# Filter principle components\n",
        "sum(pca_2.explained_variance_ratio_[:30])\n",
        "\n",
        "\n",
        "#X_pca # Training features\n",
        "#new_df.IsAlert # Target features"
      ],
      "execution_count": 0,
      "outputs": [
        {
          "output_type": "execute_result",
          "data": {
            "text/plain": [
              "0.8249402833159905"
            ]
          },
          "metadata": {
            "tags": []
          },
          "execution_count": 55
        }
      ]
    },
    {
      "cell_type": "code",
      "metadata": {
        "id": "vZw5Mo3HLH4x",
        "colab_type": "code",
        "colab": {}
      },
      "source": [
        "t_pca = t_pca[:,:14] # Slice the first 14 features\n",
        "t_pca.shape "
      ],
      "execution_count": 0,
      "outputs": []
    }
  ]
}